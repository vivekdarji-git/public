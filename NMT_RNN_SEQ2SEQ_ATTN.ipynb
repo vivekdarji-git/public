{
  "nbformat": 4,
  "nbformat_minor": 0,
  "metadata": {
    "colab": {
      "name": "NMT RNN SEQ2SEQ ATTN.ipynb",
      "provenance": [],
      "collapsed_sections": [],
      "mount_file_id": "1xogb-6FCj138nUEDqyZw9P8yY6qWl-zF",
      "authorship_tag": "ABX9TyPHFKmxNPyVO8S65c7J5LSx",
      "include_colab_link": true
    },
    "kernelspec": {
      "name": "python3",
      "display_name": "Python 3"
    },
    "accelerator": "GPU"
  },
  "cells": [
    {
      "cell_type": "markdown",
      "metadata": {
        "id": "view-in-github",
        "colab_type": "text"
      },
      "source": [
        "<a href=\"https://colab.research.google.com/github/vivekdarji-git/public/blob/master/NMT_RNN_SEQ2SEQ_ATTN.ipynb\" target=\"_parent\"><img src=\"https://colab.research.google.com/assets/colab-badge.svg\" alt=\"Open In Colab\"/></a>"
      ]
    },
    {
      "cell_type": "markdown",
      "metadata": {
        "id": "dgpq38ebo8Cy"
      },
      "source": [
        "RNN MODEL\n",
        "\n",
        "* MULTIPLE LSTM ENCODER DECODER LEVELS\n",
        "* ATTENTION LAYER\n",
        "* ENG TO SPA TRANSLATIONS\n",
        "\n"
      ]
    },
    {
      "cell_type": "code",
      "metadata": {
        "id": "EV0Caw-jpneC"
      },
      "source": [
        "#from google.colab import drive\n",
        "#drive.mount('/content/drive')"
      ],
      "execution_count": 1,
      "outputs": []
    },
    {
      "cell_type": "code",
      "metadata": {
        "id": "XeqbT1PSqDbF"
      },
      "source": [
        "# importing libraries\n",
        "\n",
        "import tensorflow as tf\n",
        "import numpy as np\n",
        "import time\n",
        "import re\n",
        "import matplotlib.pyplot as plt\n",
        "import matplotlib.ticker as ticker\n",
        "from sklearn.model_selection import train_test_split\n",
        "import io\n",
        "import unicodedata\n",
        "import pickle as pkl\n",
        "from tensorflow.keras.layers import Layer, LSTM, Input, Dense,Embedding, Concatenate, TimeDistributed\n",
        "from tensorflow.keras.models import Model,load_model, model_from_json\n",
        "from tensorflow.keras.utils import plot_model\n",
        "from tensorflow.keras.callbacks import EarlyStopping\n",
        "from tensorflow.python.keras import backend as K"
      ],
      "execution_count": 2,
      "outputs": []
    },
    {
      "cell_type": "code",
      "metadata": {
        "id": "U6ES5_tvqQls"
      },
      "source": [
        "path_to_dir = 'drive/My Drive/Colab Notebooks/samp_data'\n",
        "path_to_file = path_to_dir + '/spa.txt'"
      ],
      "execution_count": 3,
      "outputs": []
    },
    {
      "cell_type": "code",
      "metadata": {
        "id": "c7INDp8gqbKe",
        "outputId": "938df00c-3ac6-4c3b-ac4c-c77d5fb71e17",
        "colab": {
          "base_uri": "https://localhost:8080/",
          "height": 51
        }
      },
      "source": [
        "def to_ascii(s):\n",
        "  s_ascii = ''.join(c for c in unicodedata.normalize('NFD',s) if unicodedata.category(c) != 'Mn')\n",
        "  return s_ascii\n",
        "\n",
        "#preprocessing\n",
        "def preprocess_sentence(w):\n",
        "  w = to_ascii(w.lower().strip())\n",
        "  w = re.sub(r\"([?.!,¿])\", r\" \\1 \", w) # creating a space between a word and the punctuation following it\n",
        "  w = re.sub(r'[\" \"]+', \" \", w)\n",
        "  w = re.sub(r'[^a-zA-Z?.!,¿]+',\" \", w) # replacing everything with space except (a-z, A-Z, \".\", \"?\", \"!\", \",\")\n",
        "  w = w.strip()\n",
        "  w = '<start> ' + w + ' <end>' # adding a start and an end token to the sentence so that the model know when to start and stop predicting.\n",
        "  return w\n",
        "\n",
        "#testing\n",
        "\n",
        "en_sentence = u'Were there any stars in the sky?'\n",
        "sp_sentence =  u'¿Había estrellas en el cielo?'\n",
        "print(preprocess_sentence(en_sentence))\n",
        "print(preprocess_sentence(sp_sentence).encode('utf-8'))"
      ],
      "execution_count": 4,
      "outputs": [
        {
          "output_type": "stream",
          "text": [
            "<start> were there any stars in the sky ? <end>\n",
            "b'<start> \\xc2\\xbf habia estrellas en el cielo ? <end>'\n"
          ],
          "name": "stdout"
        }
      ]
    },
    {
      "cell_type": "code",
      "metadata": {
        "id": "xmsI5ml8rX33",
        "outputId": "89bdc3d9-d904-48cb-d6f2-e3661906ff0c",
        "colab": {
          "base_uri": "https://localhost:8080/",
          "height": 71
        }
      },
      "source": [
        "#clean the sentences\n",
        "#return wordpairs [ENGLISH, SPANISH]\n",
        "#create datasets\n",
        "def create_dataset(path, num_examples):\n",
        "  lines = io.open(path, encoding='utf-8').read().strip().split('\\n')\n",
        "  en = []\n",
        "  sp = []\n",
        "  for line in lines[:num_examples]:\n",
        "    word_pairs_line = line.split('\\t')\n",
        "    en.append(preprocess_sentence(word_pairs_line[0]))\n",
        "    sp.append(preprocess_sentence(word_pairs_line[1]))\n",
        "  return en, sp\n",
        "\n",
        "\n",
        "en, sp = create_dataset(path_to_file, None)\n",
        "print(en[-1])\n",
        "print(sp[-1])"
      ],
      "execution_count": 5,
      "outputs": [
        {
          "output_type": "stream",
          "text": [
            "<start> if you want to sound like a native speaker , you must be willing to practice saying the same sentence over and over in the same way that banjo players practice the same phrase over and over until they can play it correctly and at the desired tempo . <end>\n",
            "<start> si quieres sonar como un hablante nativo , debes estar dispuesto a practicar diciendo la misma frase una y otra vez de la misma manera en que un musico de banjo practica el mismo fraseo una y otra vez hasta que lo puedan tocar correctamente y en el tiempo esperado . <end>\n"
          ],
          "name": "stdout"
        }
      ]
    },
    {
      "cell_type": "code",
      "metadata": {
        "id": "CBQRK50grr_x"
      },
      "source": [
        "#tokenize\n",
        "def tokenize(lang):\n",
        "  lang_tokenizer = tf.keras.preprocessing.text.Tokenizer(filters='')\n",
        "  lang_tokenizer.fit_on_texts(lang)\n",
        "  tensor = lang_tokenizer.texts_to_sequences(lang)\n",
        "  tensor = tf.keras.preprocessing.sequence.pad_sequences(tensor, padding = 'post')\n",
        "  return tensor, lang_tokenizer\n",
        "\n",
        "#tensor  = data / array (think X, y)"
      ],
      "execution_count": 6,
      "outputs": []
    },
    {
      "cell_type": "code",
      "metadata": {
        "id": "-2vAUYogrsp9"
      },
      "source": [
        "def load_datasets(path, num_examples):\n",
        "  inp_lang, targ_lang = create_dataset(path, num_examples)\n",
        "  \n",
        "  inp_tensor, inp_lang_tokenizer = tokenize(inp_lang)\n",
        "  targ_tensor, targ_lang_tokenizer = tokenize(targ_lang)\n",
        "\n",
        "  return inp_tensor, targ_tensor, inp_lang_tokenizer, targ_lang_tokenizer"
      ],
      "execution_count": 7,
      "outputs": []
    },
    {
      "cell_type": "code",
      "metadata": {
        "id": "OL6yQq98tr-y"
      },
      "source": [
        "num_examples = 120000 #124000+ is the actual"
      ],
      "execution_count": 8,
      "outputs": []
    },
    {
      "cell_type": "code",
      "metadata": {
        "id": "HKDnAasZtvb6",
        "outputId": "141a3e3a-e5c7-43c4-ec9b-4a28b2afb8b5",
        "colab": {
          "base_uri": "https://localhost:8080/",
          "height": 85
        }
      },
      "source": [
        "inp_tensor, targ_tensor, inp_lang_tokenizer, targ_lang_tokenizer = load_datasets(path_to_file, num_examples)\n",
        "\n",
        "#inp_tensor = X_train (all data, before split)\n",
        "#targ_tensor = y_train(all data, before split)\n",
        "inp_tensor[0], targ_tensor[0]"
      ],
      "execution_count": 9,
      "outputs": [
        {
          "output_type": "execute_result",
          "data": {
            "text/plain": [
              "(array([ 1, 48,  3,  2,  0,  0,  0,  0,  0,  0,  0,  0,  0,  0,  0,  0,  0,\n",
              "         0,  0,  0,  0], dtype=int32),\n",
              " array([  1, 356,   3,   2,   0,   0,   0,   0,   0,   0,   0,   0,   0,\n",
              "          0,   0,   0,   0,   0,   0,   0,   0,   0], dtype=int32))"
            ]
          },
          "metadata": {
            "tags": []
          },
          "execution_count": 9
        }
      ]
    },
    {
      "cell_type": "code",
      "metadata": {
        "id": "S44WSKdiu0q8",
        "outputId": "73a254a2-e472-46ab-96b4-faee9906768e",
        "colab": {
          "base_uri": "https://localhost:8080/",
          "height": 51
        }
      },
      "source": [
        "inp_lang_tokenizer, targ_lang_tokenizer"
      ],
      "execution_count": 10,
      "outputs": [
        {
          "output_type": "execute_result",
          "data": {
            "text/plain": [
              "(<keras_preprocessing.text.Tokenizer at 0x7f1da54fc550>,\n",
              " <keras_preprocessing.text.Tokenizer at 0x7f1da76520b8>)"
            ]
          },
          "metadata": {
            "tags": []
          },
          "execution_count": 10
        }
      ]
    },
    {
      "cell_type": "code",
      "metadata": {
        "id": "YL9vNAI3vXMr",
        "outputId": "740c634f-ff17-42e2-e912-ced2b88f4f48",
        "colab": {
          "base_uri": "https://localhost:8080/",
          "height": 34
        }
      },
      "source": [
        "max_length_inp = inp_tensor.shape[1] # longest sentence length\n",
        "max_length_targ = targ_tensor.shape[1] #longest sentence length\n",
        "\n",
        "vocab_inp_size = len(inp_lang_tokenizer.word_index)+1 #vocab_size_source \n",
        "vocab_targ_size = len(targ_lang_tokenizer.word_index)+1 #vocab_size_target \n",
        "\n",
        "max_length_inp, max_length_targ, vocab_inp_size, vocab_targ_size\n"
      ],
      "execution_count": 11,
      "outputs": [
        {
          "output_type": "execute_result",
          "data": {
            "text/plain": [
              "(21, 22, 12256, 23870)"
            ]
          },
          "metadata": {
            "tags": []
          },
          "execution_count": 11
        }
      ]
    },
    {
      "cell_type": "code",
      "metadata": {
        "id": "W8lodx1ov2m7",
        "outputId": "0dbfd50a-b8fd-4243-8e41-d65a1a7975e7",
        "colab": {
          "base_uri": "https://localhost:8080/",
          "height": 34
        }
      },
      "source": [
        "#create train and validation split 80-20\n",
        "\n",
        "X_train, X_test, y_train, y_test = train_test_split(inp_tensor, targ_tensor, test_size = 0.2)\n",
        "print(len(X_train), len(y_train), len(X_test), len(y_test))"
      ],
      "execution_count": 12,
      "outputs": [
        {
          "output_type": "stream",
          "text": [
            "96000 96000 24000 24000\n"
          ],
          "name": "stdout"
        }
      ]
    },
    {
      "cell_type": "code",
      "metadata": {
        "id": "QUk09H-7w96I",
        "outputId": "73eaf47c-0225-4c87-d461-f223c678d3d9",
        "colab": {
          "base_uri": "https://localhost:8080/",
          "height": 357
        }
      },
      "source": [
        "#testing\n",
        "\n",
        "def convert(lang, tensor):\n",
        "  for t in tensor:\n",
        "    if t!=0:\n",
        "      print (\"%d ----> %s\" % (t, lang.index_word[t]))\n",
        "\n",
        "print(\"Input Language; index to word mapping\")\n",
        "convert(inp_lang_tokenizer, X_train[0])\n",
        "\n",
        "print (\"Target Language; index to word mapping\")\n",
        "convert(targ_lang_tokenizer, y_train[0])"
      ],
      "execution_count": 13,
      "outputs": [
        {
          "output_type": "stream",
          "text": [
            "Input Language; index to word mapping\n",
            "1 ----> <start>\n",
            "8 ----> tom\n",
            "20 ----> was\n",
            "58 ----> here\n",
            "9 ----> a\n",
            "312 ----> while\n",
            "383 ----> ago\n",
            "3 ----> .\n",
            "2 ----> <end>\n",
            "Target Language; index to word mapping\n",
            "1 ----> <start>\n",
            "9 ----> tom\n",
            "357 ----> estuvo\n",
            "46 ----> aqui\n",
            "108 ----> hace\n",
            "15 ----> un\n",
            "803 ----> rato\n",
            "3 ----> .\n",
            "2 ----> <end>\n"
          ],
          "name": "stdout"
        }
      ]
    },
    {
      "cell_type": "code",
      "metadata": {
        "id": "FbHzbikrxPqC",
        "outputId": "1235945c-5786-4fa4-aebd-66c7dcc52d79",
        "colab": {
          "base_uri": "https://localhost:8080/",
          "height": 34
        }
      },
      "source": [
        "#saving files in pickle\n",
        "with open(path_to_dir+'/saved pickle/NMT_train_test_data.pkl','wb') as f:\n",
        "  pkl.dump([X_train, y_train, X_test, y_test],f)\n",
        "\n",
        "with open(path_to_dir+'/saved pickle/NMT_inp_tokenizer.pkl','wb') as f:\n",
        "  pkl.dump([vocab_inp_size, inp_lang_tokenizer.word_index, inp_lang_tokenizer], f)\n",
        "\n",
        "with open(path_to_dir+'/saved pickle/NMT_targ_tokenizer.pkl', 'wb') as f:\n",
        "  pkl.dump([vocab_targ_size, targ_lang_tokenizer.word_index, targ_lang_tokenizer], f)\n",
        "\n",
        "print(\"pickle files saved\")"
      ],
      "execution_count": 14,
      "outputs": [
        {
          "output_type": "stream",
          "text": [
            "pickle files saved\n"
          ],
          "name": "stdout"
        }
      ]
    },
    {
      "cell_type": "code",
      "metadata": {
        "id": "W_zh9y300iBa",
        "outputId": "d383bd94-f69c-440c-ffe6-c84e6c237e38",
        "colab": {
          "base_uri": "https://localhost:8080/",
          "height": 34
        }
      },
      "source": [
        "type(X_train)"
      ],
      "execution_count": 15,
      "outputs": [
        {
          "output_type": "execute_result",
          "data": {
            "text/plain": [
              "numpy.ndarray"
            ]
          },
          "metadata": {
            "tags": []
          },
          "execution_count": 15
        }
      ]
    },
    {
      "cell_type": "code",
      "metadata": {
        "id": "SJS3uTdk0kuk"
      },
      "source": [
        "#Attention class (can be put in a separate py file)\n",
        "\n",
        "\n",
        "K.clear_session()\n",
        "\n",
        "class AttentionLayer(Layer):\n",
        "    \"\"\"\n",
        "    This class implements Bahdanau attention (https://arxiv.org/pdf/1409.0473.pdf).\n",
        "    There are three sets of weights introduced W_a, U_a, and V_a\n",
        "     \"\"\"\n",
        "\n",
        "    def __init__(self, **kwargs):\n",
        "        super(AttentionLayer, self).__init__(**kwargs)\n",
        "\n",
        "    def build(self, input_shape):\n",
        "        assert isinstance(input_shape, list)\n",
        "        # Create a trainable weight variable for this layer.\n",
        "\n",
        "        self.W_a = self.add_weight(name='W_a',\n",
        "                                   shape=tf.TensorShape((input_shape[0][2], input_shape[0][2])),\n",
        "                                   initializer='uniform',\n",
        "                                   trainable=True)\n",
        "        self.U_a = self.add_weight(name='U_a',\n",
        "                                   shape=tf.TensorShape((input_shape[1][2], input_shape[0][2])),\n",
        "                                   initializer='uniform',\n",
        "                                   trainable=True)\n",
        "        self.V_a = self.add_weight(name='V_a',\n",
        "                                   shape=tf.TensorShape((input_shape[0][2], 1)),\n",
        "                                   initializer='uniform',\n",
        "                                   trainable=True)\n",
        "\n",
        "        super(AttentionLayer, self).build(input_shape)  # Be sure to call this at the end\n",
        "\n",
        "    def call(self, inputs, verbose=False):\n",
        "        \"\"\"\n",
        "        inputs: [encoder_output_sequence, decoder_output_sequence]\n",
        "        \"\"\"\n",
        "        assert type(inputs) == list\n",
        "        encoder_out_seq, decoder_out_seq = inputs\n",
        "        if verbose:\n",
        "            print('encoder_out_seq>', encoder_out_seq.shape)\n",
        "            print('decoder_out_seq>', decoder_out_seq.shape)\n",
        "\n",
        "        def energy_step(inputs, states):\n",
        "            \"\"\" Step function for computing energy for a single decoder state\n",
        "            inputs: (batchsize * 1 * de_in_dim)\n",
        "            states: (batchsize * 1 * de_latent_dim)\n",
        "            \"\"\"\n",
        "\n",
        "            assert_msg = \"States must be an iterable. Got {} of type {}\".format(states, type(states))\n",
        "            assert isinstance(states, list) or isinstance(states, tuple), assert_msg\n",
        "\n",
        "            \"\"\" Some parameters required for shaping tensors\"\"\"\n",
        "            en_seq_len, en_hidden = encoder_out_seq.shape[1], encoder_out_seq.shape[2]\n",
        "            de_hidden = inputs.shape[-1]\n",
        "\n",
        "            \"\"\" Computing S.Wa where S=[s0, s1, ..., si]\"\"\"\n",
        "            # <= batch size * en_seq_len * latent_dim\n",
        "            W_a_dot_s = K.dot(encoder_out_seq, self.W_a)\n",
        "\n",
        "            \"\"\" Computing hj.Ua \"\"\"\n",
        "            U_a_dot_h = K.expand_dims(K.dot(inputs, self.U_a), 1)  # <= batch_size, 1, latent_dim\n",
        "            if verbose:\n",
        "                print('Ua.h>', U_a_dot_h.shape)\n",
        "\n",
        "            \"\"\" tanh(S.Wa + hj.Ua) \"\"\"\n",
        "            # <= batch_size*en_seq_len, latent_dim\n",
        "            Ws_plus_Uh = K.tanh(W_a_dot_s + U_a_dot_h)\n",
        "            if verbose:\n",
        "                print('Ws+Uh>', Ws_plus_Uh.shape)\n",
        "\n",
        "            \"\"\" softmax(va.tanh(S.Wa + hj.Ua)) \"\"\"\n",
        "            # <= batch_size, en_seq_len\n",
        "            e_i = K.squeeze(K.dot(Ws_plus_Uh, self.V_a), axis=-1)\n",
        "            # <= batch_size, en_seq_len\n",
        "            e_i = K.softmax(e_i)\n",
        "\n",
        "            if verbose:\n",
        "                print('ei>', e_i.shape)\n",
        "\n",
        "            return e_i, [e_i]\n",
        "\n",
        "        def context_step(inputs, states):\n",
        "            \"\"\" Step function for computing ci using ei \"\"\"\n",
        "\n",
        "            assert_msg = \"States must be an iterable. Got {} of type {}\".format(states, type(states))\n",
        "            assert isinstance(states, list) or isinstance(states, tuple), assert_msg\n",
        "\n",
        "            # <= batch_size, hidden_size\n",
        "            c_i = K.sum(encoder_out_seq * K.expand_dims(inputs, -1), axis=1)\n",
        "            if verbose:\n",
        "                print('ci>', c_i.shape)\n",
        "            return c_i, [c_i]\n",
        "\n",
        "        fake_state_c = K.sum(encoder_out_seq, axis=1)\n",
        "        fake_state_e = K.sum(encoder_out_seq, axis=2)  # <= (batch_size, enc_seq_len, latent_dim\n",
        "\n",
        "        \"\"\" Computing energy outputs \"\"\"\n",
        "        # e_outputs => (batch_size, de_seq_len, en_seq_len)\n",
        "        last_out, e_outputs, _ = K.rnn(\n",
        "            energy_step, decoder_out_seq, [fake_state_e],\n",
        "        )\n",
        "\n",
        "        \"\"\" Computing context vectors \"\"\"\n",
        "        last_out, c_outputs, _ = K.rnn(\n",
        "            context_step, e_outputs, [fake_state_c],\n",
        "        )\n",
        "\n",
        "        return c_outputs, e_outputs\n",
        "\n",
        "    def compute_output_shape(self, input_shape):\n",
        "        \"\"\" Outputs produced by the layer \"\"\"\n",
        "        return [\n",
        "            tf.TensorShape((input_shape[1][0], input_shape[1][1], input_shape[1][2])),\n",
        "            tf.TensorShape((input_shape[1][0], input_shape[1][1], input_shape[0][1]))\n",
        "        ]\n",
        "\n"
      ],
      "execution_count": 16,
      "outputs": []
    },
    {
      "cell_type": "code",
      "metadata": {
        "id": "Eo5XiP0ND7Qj"
      },
      "source": [
        "#buidling a model\n",
        "\n",
        "embedding_dim = 256\n",
        "units = 1024\n"
      ],
      "execution_count": 17,
      "outputs": []
    },
    {
      "cell_type": "code",
      "metadata": {
        "id": "5sLhZX-FEK4u"
      },
      "source": [
        "#ENCODER\n",
        "encoder_inputs = Input(shape=(max_length_inp,))\n",
        "\n",
        "# EMBEDDING\n",
        "enc_emb = Embedding(vocab_inp_size, embedding_dim, trainable = True)(encoder_inputs)\n",
        "\n",
        "#LSTM 1 \n",
        "encoder_lstm1 = LSTM(units, return_sequences=True, return_state=True)\n",
        "encoder_output1, state_h1, state_c1 = encoder_lstm1(enc_emb)\n",
        "\n",
        "#LSTM 2\n",
        "encoder_lstm2 = LSTM(units, return_sequences=True, return_state=True)\n",
        "encoder_output2, state_h2, state_c2 = encoder_lstm2(encoder_output1)\n",
        "\n",
        "#LSTM 3\n",
        "encoder_lstm3 = LSTM(units, return_sequences=True, return_state=True)\n",
        "encoder_outputs, state_h, state_c = encoder_lstm3(encoder_output2)\n",
        "\n",
        "\n"
      ],
      "execution_count": 18,
      "outputs": []
    },
    {
      "cell_type": "code",
      "metadata": {
        "id": "c6fVkKhMHk_H",
        "outputId": "d97be8b0-c86c-4c44-8b19-08cfaf535448",
        "colab": {
          "base_uri": "https://localhost:8080/",
          "height": 976
        }
      },
      "source": [
        "#DECODER\n",
        "\n",
        "decoder_inputs = Input(shape = (None,))\n",
        "\n",
        "#EMBEDDING\n",
        "dec_emb = Embedding(vocab_targ_size, embedding_dim, trainable = True)(decoder_inputs)\n",
        "\n",
        "#LSTM using encoder_states as initial state\n",
        "decoder_lstm = LSTM(units, return_sequences=True, return_state = True)\n",
        "decoder_outputs, decoder_fwd_state, decoder_back_state = decoder_lstm(dec_emb, initial_state = [state_h,state_c])\n",
        "\n",
        "#Attention Layer\n",
        "attn_layer = AttentionLayer(name='attention_layer')\n",
        "attn_out, attn_states = attn_layer([encoder_outputs, decoder_outputs])\n",
        "\n",
        "#Concatenate attn output and decoder LSTM output\n",
        "decoder_concat_input = Concatenate(axis=-1, name='concat_layer')([decoder_outputs, attn_out])\n",
        "\n",
        "#Dense layer\n",
        "\n",
        "decoder_dense = TimeDistributed(Dense(vocab_targ_size, activation='softmax'))\n",
        "\n",
        "decoder_outputs = decoder_dense(decoder_concat_input)\n",
        "\n",
        "#Define the model\n",
        "\n",
        "model = Model([encoder_inputs, decoder_inputs], decoder_outputs)\n",
        "\n",
        "plot_model(model, to_file = 'train_model.png', show_shapes= True)\n"
      ],
      "execution_count": 19,
      "outputs": [
        {
          "output_type": "execute_result",
          "data": {
            "image/png": "[encoded data removed]",
            "text/plain": [
              "<IPython.core.display.Image object>"
            ]
          },
          "metadata": {
            "tags": []
          },
          "execution_count": 19
        }
      ]
    },
    {
      "cell_type": "code",
      "metadata": {
        "id": "nuyzAbOBKwy3",
        "outputId": "b2f029d5-7c55-4907-fdf2-0c08d2ccacaa",
        "colab": {
          "base_uri": "https://localhost:8080/",
          "height": 595
        }
      },
      "source": [
        "model.compile(optimizer = 'rmsprop',\n",
        "              loss = 'sparse_categorical_crossentropy',\n",
        "              metrics = ['accuracy'])\n",
        "model.summary()"
      ],
      "execution_count": 20,
      "outputs": [
        {
          "output_type": "stream",
          "text": [
            "Model: \"functional_1\"\n",
            "__________________________________________________________________________________________________\n",
            "Layer (type)                    Output Shape         Param #     Connected to                     \n",
            "==================================================================================================\n",
            "input_1 (InputLayer)            [(None, 21)]         0                                            \n",
            "__________________________________________________________________________________________________\n",
            "embedding (Embedding)           (None, 21, 256)      3137536     input_1[0][0]                    \n",
            "__________________________________________________________________________________________________\n",
            "lstm (LSTM)                     [(None, 21, 1024), ( 5246976     embedding[0][0]                  \n",
            "__________________________________________________________________________________________________\n",
            "input_2 (InputLayer)            [(None, None)]       0                                            \n",
            "__________________________________________________________________________________________________\n",
            "lstm_1 (LSTM)                   [(None, 21, 1024), ( 8392704     lstm[0][0]                       \n",
            "__________________________________________________________________________________________________\n",
            "embedding_1 (Embedding)         (None, None, 256)    6110720     input_2[0][0]                    \n",
            "__________________________________________________________________________________________________\n",
            "lstm_2 (LSTM)                   [(None, 21, 1024), ( 8392704     lstm_1[0][0]                     \n",
            "__________________________________________________________________________________________________\n",
            "lstm_3 (LSTM)                   [(None, None, 1024), 5246976     embedding_1[0][0]                \n",
            "                                                                 lstm_2[0][1]                     \n",
            "                                                                 lstm_2[0][2]                     \n",
            "__________________________________________________________________________________________________\n",
            "attention_layer (AttentionLayer ((None, None, 1024), 2098176     lstm_2[0][0]                     \n",
            "                                                                 lstm_3[0][0]                     \n",
            "__________________________________________________________________________________________________\n",
            "concat_layer (Concatenate)      (None, None, 2048)   0           lstm_3[0][0]                     \n",
            "                                                                 attention_layer[0][0]            \n",
            "__________________________________________________________________________________________________\n",
            "time_distributed (TimeDistribut (None, None, 23870)  48909630    concat_layer[0][0]               \n",
            "==================================================================================================\n",
            "Total params: 87,535,422\n",
            "Trainable params: 87,535,422\n",
            "Non-trainable params: 0\n",
            "__________________________________________________________________________________________________\n"
          ],
          "name": "stdout"
        }
      ]
    },
    {
      "cell_type": "code",
      "metadata": {
        "id": "3OFri-zsK9sJ",
        "outputId": "4932b9f4-55c9-439f-cf5a-572dff2bf5d6",
        "colab": {
          "base_uri": "https://localhost:8080/",
          "height": 1000
        }
      },
      "source": [
        "#Model Training / teacher forcing\n",
        "EPOCHS = 50\n",
        "BATCH_SIZE = 64\n",
        "\n",
        "es = EarlyStopping(monitor = 'val_loss', mode = 'min', verbose = 1) #Stop training when a monitored metric has stopped improving.\n",
        "\n",
        "#training\n",
        "\n",
        "history = model.fit([X_train, y_train[:,:-1]], y_train.reshape(y_train.shape[0], y_train.shape[1],1)[:,1:], \n",
        "                    epochs=EPOCHS, \n",
        "                    #callbacks=[es],\n",
        "                    batch_size=BATCH_SIZE,\n",
        "                    validation_data = ([X_test, y_test[:,:-1]],          \n",
        "                                       y_test.reshape(y_test.shape[0], y_test.shape[1], 1)[:,1:]))\n"
      ],
      "execution_count": 21,
      "outputs": [
        {
          "output_type": "stream",
          "text": [
            "Epoch 1/50\n",
            "1500/1500 [==============================] - ETA: 0s - loss: 1.4537 - accuracy: 0.7853WARNING:tensorflow:Callbacks method `on_test_batch_end` is slow compared to the batch time (batch time: 0.0095s vs `on_test_batch_end` time: 0.1186s). Check your callbacks.\n",
            "1500/1500 [==============================] - 603s 402ms/step - loss: 1.4537 - accuracy: 0.7853 - val_loss: 1.0985 - val_accuracy: 0.8319\n",
            "Epoch 2/50\n",
            "1500/1500 [==============================] - 598s 399ms/step - loss: 0.9636 - accuracy: 0.8512 - val_loss: 0.9064 - val_accuracy: 0.8609\n",
            "Epoch 3/50\n",
            "1500/1500 [==============================] - 578s 385ms/step - loss: 0.7996 - accuracy: 0.8755 - val_loss: 0.8283 - val_accuracy: 0.8729\n",
            "Epoch 4/50\n",
            "1500/1500 [==============================] - 571s 381ms/step - loss: 0.7037 - accuracy: 0.8897 - val_loss: 0.7911 - val_accuracy: 0.8791\n",
            "Epoch 5/50\n",
            "1500/1500 [==============================] - 570s 380ms/step - loss: 0.6354 - accuracy: 0.9005 - val_loss: 0.7766 - val_accuracy: 0.8828\n",
            "Epoch 6/50\n",
            "1500/1500 [==============================] - 569s 379ms/step - loss: 0.5753 - accuracy: 0.9087 - val_loss: 0.7585 - val_accuracy: 0.8842\n",
            "Epoch 7/50\n",
            "1500/1500 [==============================] - 571s 381ms/step - loss: 0.5167 - accuracy: 0.9161 - val_loss: 0.7515 - val_accuracy: 0.8859\n",
            "Epoch 8/50\n",
            "1500/1500 [==============================] - 569s 379ms/step - loss: 0.4677 - accuracy: 0.9221 - val_loss: 0.7449 - val_accuracy: 0.8865\n",
            "Epoch 9/50\n",
            "1500/1500 [==============================] - 572s 381ms/step - loss: 0.4201 - accuracy: 0.9279 - val_loss: 0.7387 - val_accuracy: 0.8865\n",
            "Epoch 10/50\n",
            "1500/1500 [==============================] - 571s 380ms/step - loss: 0.3757 - accuracy: 0.9331 - val_loss: 0.7431 - val_accuracy: 0.8858\n",
            "Epoch 11/50\n",
            "1500/1500 [==============================] - 567s 378ms/step - loss: 0.3379 - accuracy: 0.9378 - val_loss: 0.7373 - val_accuracy: 0.8872\n",
            "Epoch 12/50\n",
            "1500/1500 [==============================] - 570s 380ms/step - loss: 0.3064 - accuracy: 0.9412 - val_loss: 0.7476 - val_accuracy: 0.8872\n",
            "Epoch 13/50\n",
            "1500/1500 [==============================] - 570s 380ms/step - loss: 0.2803 - accuracy: 0.9439 - val_loss: 0.7556 - val_accuracy: 0.8864\n",
            "Epoch 14/50\n",
            "1500/1500 [==============================] - 568s 379ms/step - loss: 0.2622 - accuracy: 0.9462 - val_loss: 0.7646 - val_accuracy: 0.8863\n",
            "Epoch 15/50\n",
            "1500/1500 [==============================] - 570s 380ms/step - loss: 0.2476 - accuracy: 0.9476 - val_loss: 0.7766 - val_accuracy: 0.8857\n",
            "Epoch 16/50\n",
            "1500/1500 [==============================] - 569s 380ms/step - loss: 0.2316 - accuracy: 0.9492 - val_loss: 0.7873 - val_accuracy: 0.8844\n",
            "Epoch 17/50\n",
            "1500/1500 [==============================] - 566s 377ms/step - loss: 0.2188 - accuracy: 0.9509 - val_loss: 0.7888 - val_accuracy: 0.8853\n",
            "Epoch 18/50\n",
            "1500/1500 [==============================] - 569s 379ms/step - loss: 0.2074 - accuracy: 0.9524 - val_loss: 0.7924 - val_accuracy: 0.8852\n",
            "Epoch 19/50\n",
            "1500/1500 [==============================] - 568s 379ms/step - loss: 0.1963 - accuracy: 0.9541 - val_loss: 0.8001 - val_accuracy: 0.8849\n",
            "Epoch 20/50\n",
            "1500/1500 [==============================] - 566s 378ms/step - loss: 0.1861 - accuracy: 0.9552 - val_loss: 0.8068 - val_accuracy: 0.8844\n",
            "Epoch 21/50\n",
            "1500/1500 [==============================] - 569s 379ms/step - loss: 0.1753 - accuracy: 0.9570 - val_loss: 0.8104 - val_accuracy: 0.8842\n",
            "Epoch 22/50\n",
            "1500/1500 [==============================] - 568s 379ms/step - loss: 0.1648 - accuracy: 0.9591 - val_loss: 0.8176 - val_accuracy: 0.8847\n",
            "Epoch 23/50\n",
            "1500/1500 [==============================] - 568s 379ms/step - loss: 0.1555 - accuracy: 0.9609 - val_loss: 0.8293 - val_accuracy: 0.8845\n",
            "Epoch 24/50\n",
            "1500/1500 [==============================] - 569s 379ms/step - loss: 0.1467 - accuracy: 0.9628 - val_loss: 0.8292 - val_accuracy: 0.8851\n",
            "Epoch 25/50\n",
            "1500/1500 [==============================] - 570s 380ms/step - loss: 0.1396 - accuracy: 0.9644 - val_loss: 0.8388 - val_accuracy: 0.8840\n",
            "Epoch 26/50\n",
            "1500/1500 [==============================] - 574s 383ms/step - loss: 0.1340 - accuracy: 0.9657 - val_loss: 0.8455 - val_accuracy: 0.8843\n",
            "Epoch 27/50\n",
            "1500/1500 [==============================] - 574s 383ms/step - loss: 0.1297 - accuracy: 0.9669 - val_loss: 0.8415 - val_accuracy: 0.8853\n",
            "Epoch 28/50\n",
            "1500/1500 [==============================] - 572s 382ms/step - loss: 0.1253 - accuracy: 0.9677 - val_loss: 0.8578 - val_accuracy: 0.8833\n",
            "Epoch 29/50\n",
            "1500/1500 [==============================] - 574s 383ms/step - loss: 0.1222 - accuracy: 0.9686 - val_loss: 0.8541 - val_accuracy: 0.8845\n",
            "Epoch 30/50\n",
            "1500/1500 [==============================] - 573s 382ms/step - loss: 0.1192 - accuracy: 0.9693 - val_loss: 0.8622 - val_accuracy: 0.8852\n",
            "Epoch 31/50\n",
            "1500/1500 [==============================] - 572s 382ms/step - loss: 0.1176 - accuracy: 0.9697 - val_loss: 0.8689 - val_accuracy: 0.8848\n",
            "Epoch 32/50\n",
            "1500/1500 [==============================] - 577s 385ms/step - loss: 0.1154 - accuracy: 0.9704 - val_loss: 0.8681 - val_accuracy: 0.8838\n",
            "Epoch 33/50\n",
            "1500/1500 [==============================] - 574s 383ms/step - loss: 0.1144 - accuracy: 0.9705 - val_loss: 0.8747 - val_accuracy: 0.8841\n",
            "Epoch 34/50\n",
            "1500/1500 [==============================] - 575s 383ms/step - loss: 0.1108 - accuracy: 0.9713 - val_loss: 0.8769 - val_accuracy: 0.8844\n",
            "Epoch 35/50\n",
            "1500/1500 [==============================] - 575s 383ms/step - loss: 0.1087 - accuracy: 0.9719 - val_loss: 0.8781 - val_accuracy: 0.8854\n",
            "Epoch 36/50\n",
            "1500/1500 [==============================] - 574s 382ms/step - loss: 0.1066 - accuracy: 0.9724 - val_loss: 0.8833 - val_accuracy: 0.8844\n",
            "Epoch 37/50\n",
            "1500/1500 [==============================] - 575s 383ms/step - loss: 0.1057 - accuracy: 0.9726 - val_loss: 0.8836 - val_accuracy: 0.8852\n",
            "Epoch 38/50\n",
            "1500/1500 [==============================] - 573s 382ms/step - loss: 0.1041 - accuracy: 0.9731 - val_loss: 0.8894 - val_accuracy: 0.8842\n",
            "Epoch 39/50\n",
            "1500/1500 [==============================] - 571s 381ms/step - loss: 0.1027 - accuracy: 0.9734 - val_loss: 0.8897 - val_accuracy: 0.8844\n",
            "Epoch 40/50\n",
            "1500/1500 [==============================] - 573s 382ms/step - loss: 0.1008 - accuracy: 0.9740 - val_loss: 0.8925 - val_accuracy: 0.8850\n",
            "Epoch 41/50\n",
            "1500/1500 [==============================] - 572s 381ms/step - loss: 0.0995 - accuracy: 0.9743 - val_loss: 0.9003 - val_accuracy: 0.8838\n",
            "Epoch 42/50\n",
            "1500/1500 [==============================] - 568s 379ms/step - loss: 0.0991 - accuracy: 0.9744 - val_loss: 0.9072 - val_accuracy: 0.8843\n",
            "Epoch 43/50\n",
            "1500/1500 [==============================] - 570s 380ms/step - loss: 0.0975 - accuracy: 0.9747 - val_loss: 0.9109 - val_accuracy: 0.8840\n",
            "Epoch 44/50\n",
            "1500/1500 [==============================] - 570s 380ms/step - loss: 0.0964 - accuracy: 0.9753 - val_loss: 0.9108 - val_accuracy: 0.8844\n",
            "Epoch 45/50\n",
            "1500/1500 [==============================] - 568s 379ms/step - loss: 0.0955 - accuracy: 0.9753 - val_loss: 0.9045 - val_accuracy: 0.8847\n",
            "Epoch 46/50\n",
            "1500/1500 [==============================] - 570s 380ms/step - loss: 0.0953 - accuracy: 0.9754 - val_loss: 0.9076 - val_accuracy: 0.8846\n",
            "Epoch 47/50\n",
            "1500/1500 [==============================] - 569s 379ms/step - loss: 0.0931 - accuracy: 0.9761 - val_loss: 0.9048 - val_accuracy: 0.8848\n",
            "Epoch 48/50\n",
            "1500/1500 [==============================] - 567s 378ms/step - loss: 0.0923 - accuracy: 0.9764 - val_loss: 0.9174 - val_accuracy: 0.8843\n",
            "Epoch 49/50\n",
            "1500/1500 [==============================] - 569s 379ms/step - loss: 0.0909 - accuracy: 0.9767 - val_loss: 0.9134 - val_accuracy: 0.8840\n",
            "Epoch 50/50\n",
            "1500/1500 [==============================] - 567s 378ms/step - loss: 0.0901 - accuracy: 0.9769 - val_loss: 0.9160 - val_accuracy: 0.8839\n"
          ],
          "name": "stdout"
        }
      ]
    },
    {
      "cell_type": "code",
      "metadata": {
        "id": "WXGIBvtXMDOo",
        "outputId": "257a1d33-f496-455b-b3e7-cd9dd5987af7",
        "colab": {
          "base_uri": "https://localhost:8080/",
          "height": 34
        }
      },
      "source": [
        "model_json = model.to_json()\n",
        "with open(path_to_dir+'/saved pickle/NMT_model.json','w') as json_file:\n",
        "          json_file.write(model_json)\n",
        "\n",
        "#serialize weights to hDF5\n",
        "model.save_weights(path_to_dir+'/saved pickle/NMT_model_weight.h5')\n",
        "print(\"Model saved\")"
      ],
      "execution_count": 22,
      "outputs": [
        {
          "output_type": "stream",
          "text": [
            "Model saved\n"
          ],
          "name": "stdout"
        }
      ]
    },
    {
      "cell_type": "code",
      "metadata": {
        "id": "To5RAkdptNY1"
      },
      "source": [
        ""
      ],
      "execution_count": 22,
      "outputs": []
    },
    {
      "cell_type": "code",
      "metadata": {
        "id": "0l0y30ZYvqGl",
        "outputId": "a6868196-3892-4720-ccbb-543809802928",
        "colab": {
          "base_uri": "https://localhost:8080/",
          "height": 51
        }
      },
      "source": [
        "#Loading the model\n",
        "json_file = open(path_to_dir+'/saved pickle/NMT_model.json','r')\n",
        "loaded_model_json = json_file.read()\n",
        "json_file.close()\n",
        "model_loaded = model_from_json(loaded_model_json, custom_objects = {'AttentionLayer': AttentionLayer})\n",
        "\n",
        "#Loading the weights\n",
        "model_loaded.load_weights(path_to_dir+'/saved pickle/NMT_model_weight.h5')\n",
        "\n",
        "model_loaded.input"
      ],
      "execution_count": 23,
      "outputs": [
        {
          "output_type": "execute_result",
          "data": {
            "text/plain": [
              "[<tf.Tensor 'input_1_1:0' shape=(None, 21) dtype=float32>,\n",
              " <tf.Tensor 'input_2_1:0' shape=(None, None) dtype=float32>]"
            ]
          },
          "metadata": {
            "tags": []
          },
          "execution_count": 23
        }
      ]
    },
    {
      "cell_type": "code",
      "metadata": {
        "id": "LGctAdt0yzow",
        "outputId": "d423b763-4e67-428d-a277-629df5b45235",
        "colab": {
          "base_uri": "https://localhost:8080/",
          "height": 204
        }
      },
      "source": [
        "model_loaded.layers"
      ],
      "execution_count": 24,
      "outputs": [
        {
          "output_type": "execute_result",
          "data": {
            "text/plain": [
              "[<tensorflow.python.keras.engine.input_layer.InputLayer at 0x7f1d90617400>,\n",
              " <tensorflow.python.keras.layers.embeddings.Embedding at 0x7f1da661ae80>,\n",
              " <tensorflow.python.keras.layers.recurrent_v2.LSTM at 0x7f1da57e5940>,\n",
              " <tensorflow.python.keras.engine.input_layer.InputLayer at 0x7f1d90617550>,\n",
              " <tensorflow.python.keras.layers.recurrent_v2.LSTM at 0x7f1d906176a0>,\n",
              " <tensorflow.python.keras.layers.embeddings.Embedding at 0x7f1d90617ef0>,\n",
              " <tensorflow.python.keras.layers.recurrent_v2.LSTM at 0x7f1d9061e048>,\n",
              " <tensorflow.python.keras.layers.recurrent_v2.LSTM at 0x7f1d9061e748>,\n",
              " <__main__.AttentionLayer at 0x7f1d9061eeb8>,\n",
              " <tensorflow.python.keras.layers.merge.Concatenate at 0x7f1d906260b8>,\n",
              " <tensorflow.python.keras.layers.wrappers.TimeDistributed at 0x7f1d906264e0>]"
            ]
          },
          "metadata": {
            "tags": []
          },
          "execution_count": 24
        }
      ]
    },
    {
      "cell_type": "code",
      "metadata": {
        "id": "Fp5aooDRze_l",
        "outputId": "d5873177-d0b7-428a-d979-f6aad8511d11",
        "colab": {
          "base_uri": "https://localhost:8080/",
          "height": 34
        }
      },
      "source": [
        "model_loaded.layers[6]"
      ],
      "execution_count": 25,
      "outputs": [
        {
          "output_type": "execute_result",
          "data": {
            "text/plain": [
              "<tensorflow.python.keras.layers.recurrent_v2.LSTM at 0x7f1d9061e048>"
            ]
          },
          "metadata": {
            "tags": []
          },
          "execution_count": 25
        }
      ]
    },
    {
      "cell_type": "code",
      "metadata": {
        "id": "S--dDCWZwsib",
        "outputId": "204b17b6-1e42-4420-bb11-806fbd46e40c",
        "colab": {
          "base_uri": "https://localhost:8080/",
          "height": 34
        }
      },
      "source": [
        "#INFERENCE MODEL\n",
        "\n",
        "# to predict our output sequences by considering weights from a pre-trained model\n",
        "# its a model that deduces properties that are learned in training phase and are now used for predicting new sequences\n",
        "\n",
        "\n",
        "units = units #1024 in our case ( from earlier steps)\n",
        "\n",
        "#encoder inference\n",
        "encoder_inputs = model_loaded.input[0] #loading encoder_inputs\n",
        "encoder_outputs, state_h, state_c = model_loaded.layers[6].output  #loading encoder outputs\n",
        " \n",
        "print(encoder_outputs.shape)\n",
        "\n",
        "encoder_model = Model(inputs = encoder_inputs, outputs = [encoder_outputs, state_h, state_c])\n",
        "\n",
        "\n"
      ],
      "execution_count": 26,
      "outputs": [
        {
          "output_type": "stream",
          "text": [
            "(None, 21, 1024)\n"
          ],
          "name": "stdout"
        }
      ]
    },
    {
      "cell_type": "code",
      "metadata": {
        "id": "hlxQCSt-3UjD",
        "outputId": "4c2ae7a1-8f08-4002-b4a8-114652a96fa4",
        "colab": {
          "base_uri": "https://localhost:8080/",
          "height": 34
        }
      },
      "source": [
        "#decoder inference\n",
        "decoder_state_input_h = Input(shape=(units,))\n",
        "decoder_state_input_c = Input(shape=(units,))\n",
        "decoder_hidden_state_input = Input(shape=(max_length_inp, units))\n",
        "\n",
        "#Get embeddings for decoder sequence\n",
        "decoder_inputs = model_loaded.layers[3].output\n",
        "\n",
        "print(decoder_inputs.shape)\n",
        "\n",
        "dec_emb2 = model_loaded.layers[5](decoder_inputs)\n",
        "\n",
        "#to predict the next word in sequence, set the initial states to the states from the previous time step\n",
        "decoder_lstm = model_loaded.layers[7]\n",
        "decoder_outputs2, state_h2, state_c2 = decoder_lstm(dec_emb2, initial_state = [decoder_state_input_h, decoder_state_input_c])\n",
        "\n"
      ],
      "execution_count": 27,
      "outputs": [
        {
          "output_type": "stream",
          "text": [
            "(None, None)\n"
          ],
          "name": "stdout"
        }
      ]
    },
    {
      "cell_type": "code",
      "metadata": {
        "id": "FB9ZYHxq38C8"
      },
      "source": [
        "#Attention inference\n",
        "\n",
        "attn_layer = model_loaded.layers[8]\n",
        "attn_out_inf, attn_states_inf = attn_layer([decoder_hidden_state_input, decoder_outputs2])\n",
        "\n",
        "concat= model_loaded.layers[9]\n",
        "decoder_inf_concat = concat([decoder_outputs2, attn_out_inf])\n",
        "\n",
        "#a dense softmax layer to generate prob dist.\n",
        "decoder_dense = model_loaded.layers[10]\n",
        "decoder_outputs2 = decoder_dense(decoder_inf_concat)\n"
      ],
      "execution_count": 28,
      "outputs": []
    },
    {
      "cell_type": "code",
      "metadata": {
        "id": "YFdSHWim4yJG"
      },
      "source": [
        "#Final Decoder model\n",
        "decoder_model = Model([decoder_inputs] + [decoder_hidden_state_input, decoder_state_input_h, decoder_state_input_c], \n",
        "                      [decoder_outputs2] + [state_h2, state_c2])"
      ],
      "execution_count": 29,
      "outputs": []
    },
    {
      "cell_type": "code",
      "metadata": {
        "id": "l-wfxmF45Km1"
      },
      "source": [
        "#PREDICTIONS\n",
        "\n",
        "def decode_sequence (input_seq):\n",
        "  e_out, e_h, e_c = encoder_model.predict(input_seq)\n",
        "\n",
        "  target_seq = np.zeros((1,1))\n",
        "\n",
        "  #chose the start word as the first word of the target sequence\n",
        "\n",
        "  target_seq[0,0] = targ_lang_tokenizer.word_index['<start>']\n",
        "\n",
        "  stop_condition = False\n",
        "  decoded_sentence = ''\n",
        "  while not stop_condition:\n",
        "\n",
        "    output_tokens, h, c = decoder_model.predict([target_seq] + [e_out, e_h, e_c])\n",
        "  \n",
        "    # Sample a token and add the corresponding character to the decoded sequence\n",
        "    sampled_token_index = np.argmax(output_tokens[0, -1, :])\n",
        "    if sampled_token_index == 0:\n",
        "      break\n",
        "    else:\n",
        "      sampled_token = targ_lang_tokenizer.index_word[sampled_token_index]\n",
        "    \n",
        "    if(sampled_token!='<end>'):\n",
        "      decoded_sentence += ' '+sampled_token\n",
        "      \n",
        "    # Exit condition: either hit max length or find stop word.\n",
        "    if (sampled_token == 'end' or len(decoded_sentence.split()) >= (26-1)):\n",
        "        stop_condition = True\n",
        "    \n",
        "    # Update the target sequence (of length 1).\n",
        "    target_seq = np.zeros((1,1))\n",
        "    target_seq[0, 0] = sampled_token_index\n",
        "\n",
        "    # Update internal states\n",
        "    e_h, e_c = h, c\n",
        "\n",
        "  return decoded_sentence\n"
      ],
      "execution_count": 30,
      "outputs": []
    },
    {
      "cell_type": "code",
      "metadata": {
        "id": "FGvtSGdQ9-oJ"
      },
      "source": [
        "def seq2summary(input_seq):\n",
        "  newString = ''\n",
        "  for i in input_seq:\n",
        "    if((i!=0 and i!=targ_lang_tokenizer.word_index['<start>']) and i!= targ_lang_tokenizer.word_index['<end>']):\n",
        "      newString = newString+targ_lang_tokenizer.index_word[i] + ' '\n",
        "  return newString\n",
        "\n",
        "def seq2text(input_seq):\n",
        "  newString = ''\n",
        "  for i in input_seq:\n",
        "    if(i!=0):\n",
        "      newString = newString + inp_lang_tokenizer.index_word[i] + ' '\n",
        "  return newString"
      ],
      "execution_count": 31,
      "outputs": []
    },
    {
      "cell_type": "code",
      "metadata": {
        "id": "1FASxgD2_zLv",
        "outputId": "0ce8e069-3872-47a8-de24-3522306eb003",
        "colab": {
          "base_uri": "https://localhost:8080/",
          "height": 867
        }
      },
      "source": [
        "for i in range(10):  \n",
        "  print(\"Review:\",seq2text(X_test[i]))\n",
        "  print(\"Original summary:\",seq2summary(y_test[i]))\n",
        "  print(\"Predicted summary:\",decode_sequence(X_test[i].reshape(1,max_length_inp)))\n",
        "  print(\"\\n\")"
      ],
      "execution_count": 32,
      "outputs": [
        {
          "output_type": "stream",
          "text": [
            "Review: <start> tom was impatient to see mary again . <end> \n",
            "Original summary: tom estaba impaciente por ver a mary otra vez . \n",
            "Predicted summary:  tom estaba impaciente por ver a mary otra vez .\n",
            "\n",
            "\n",
            "Review: <start> they abandoned their homeland . <end> \n",
            "Original summary: ellos abandonaron su patria . \n",
            "Predicted summary:  ellos abandonaron su pais .\n",
            "\n",
            "\n",
            "Review: <start> can we help you with something ? <end> \n",
            "Original summary: ¿ te podemos ayudar en algo ? \n",
            "Predicted summary:  ¿ podemos ayudarla con algo ?\n",
            "\n",
            "\n",
            "Review: <start> i m a student . <end> \n",
            "Original summary: soy estudiante . \n",
            "Predicted summary:  soy un estudiante .\n",
            "\n",
            "\n",
            "Review: <start> are you married ? <end> \n",
            "Original summary: ¿ estas casada ? \n",
            "Predicted summary:  ¿ estas casado ?\n",
            "\n",
            "\n",
            "Review: <start> that ll last . <end> \n",
            "Original summary: durara . \n",
            "Predicted summary:  eso durara .\n",
            "\n",
            "\n",
            "Review: <start> rabbits have long ears . <end> \n",
            "Original summary: los conejos tienen las orejas grandes . \n",
            "Predicted summary:  los conejos tienen largas orejas .\n",
            "\n",
            "\n",
            "Review: <start> every man has his price . <end> \n",
            "Original summary: todo el mundo tiene un precio . \n",
            "Predicted summary:  cada hombre tiene su tio .\n",
            "\n",
            "\n",
            "Review: <start> the capital of japan is tokyo . <end> \n",
            "Original summary: la capital de japon es tokio . \n",
            "Predicted summary:  la capital de japon es japon .\n",
            "\n",
            "\n",
            "Review: <start> i ll reconsider the matter . <end> \n",
            "Original summary: reconsiderare el asunto . \n",
            "Predicted summary:  yo mismo .\n",
            "\n",
            "\n"
          ],
          "name": "stdout"
        }
      ]
    }
  ]
}